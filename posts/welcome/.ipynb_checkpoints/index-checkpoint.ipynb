{
 "cells": [
  {
   "cell_type": "raw",
   "metadata": {},
   "source": [
    "---\n",
    "title: Predictive maintenance system\n",
    "author: Manoj Subedi\n",
    "date: '2023-10-12'\n",
    "categories:\n",
    "  - news\n",
    "---"
   ]
  },
  {
   "cell_type": "code",
   "execution_count": null,
   "metadata": {},
   "outputs": [],
   "source": [
    "This is the first post in a Quarto blog. Welcome!\n",
    "\n",
    "![](thumbnail.jpg)\n",
    "\n",
    "Since this post doesn't specify an explicit `image`, the first image in the post will be used in the listing page of posts."
   ]
  }
 ],
 "metadata": {
  "jupytext": {
   "formats": "qmd,ipynb"
  },
  "kernelspec": {
   "display_name": "Python 3 (ipykernel)",
   "language": "python",
   "name": "python3"
  },
  "language_info": {
   "codemirror_mode": {
    "name": "ipython",
    "version": 3
   },
   "file_extension": ".py",
   "mimetype": "text/x-python",
   "name": "python",
   "nbconvert_exporter": "python",
   "pygments_lexer": "ipython3",
   "version": "3.11.5"
  }
 },
 "nbformat": 4,
 "nbformat_minor": 4
}
