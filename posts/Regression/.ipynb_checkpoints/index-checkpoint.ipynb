{
  "cells": [
    {
      "cell_type": "raw",
      "metadata": {},
      "source": [
        "---\n",
        "title: Post With Code\n",
        "author: Manoj Subedi\n",
        "date: '2023-10-11'\n",
        "categories:\n",
        "  - news\n",
        "  - code\n",
        "  - analysis\n",
        "image: image.jpg\n",
        "---"
      ],
      "id": "ea7a90b4"
    },
    {
      "cell_type": "markdown",
      "metadata": {},
      "source": [
        "This is a post with executable code.\n",
        "\n",
        "\n",
        "```{r}\n",
        "1 + 1\n",
        "```"
      ],
      "id": "24b0530c"
    }
  ],
  "metadata": {
    "kernelspec": {
      "display_name": "Python 3 (ipykernel)",
      "language": "python",
      "name": "python3"
    },
    "jupytext": {
      "formats": "ipynb, qmd",
      "text_representation": {
        "extension": ".qmd",
        "format_name": "quarto",
        "format_version": "1.0",
        "jupytext_version": "1.15.2"
      }
    }
  },
  "nbformat": 4,
  "nbformat_minor": 5
}